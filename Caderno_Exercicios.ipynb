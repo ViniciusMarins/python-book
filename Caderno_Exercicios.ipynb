{
 "cells": [
  {
   "cell_type": "markdown",
   "id": "3ada0974",
   "metadata": {},
   "source": [
    "<h1> Caderno de Exercícios python </h1>"
   ]
  },
  {
   "cell_type": "markdown",
   "id": "a1fac530",
   "metadata": {},
   "source": [
    "<h4> Função para verificar se um número é quadrado perfeito </h4>"
   ]
  },
  {
   "cell_type": "code",
   "execution_count": 3,
   "id": "ef8d89ef",
   "metadata": {},
   "outputs": [
    {
     "name": "stdout",
     "output_type": "stream",
     "text": [
      "O número é quadrado perfeito.\n"
     ]
    }
   ],
   "source": [
    "def quadrado_perfeito(numero):\n",
    "    for i in range(numero):\n",
    "        for j in range(numero):\n",
    "            if i**j == numero:\n",
    "                return 'O número é quadrado perfeito.'\n",
    "    return 'O número não é quadrado perfeito.'\n",
    "            \n",
    "print(quadrado_perfeito(9))"
   ]
  },
  {
   "attachments": {},
   "cell_type": "markdown",
   "id": "c270e405",
   "metadata": {},
   "source": [
    "<h4> Função para calcular o volume de uma esfera </h4>"
   ]
  },
  {
   "cell_type": "code",
   "execution_count": 4,
   "id": "e3a9ca81",
   "metadata": {},
   "outputs": [
    {
     "name": "stdout",
     "output_type": "stream",
     "text": [
      "33.49333333333333\n"
     ]
    }
   ],
   "source": [
    "def calcula_volume(raio):\n",
    "    return 4/3 * 3.14 * raio**3\n",
    "\n",
    "print(calcula_volume(2))"
   ]
  },
  {
   "attachments": {},
   "cell_type": "markdown",
   "id": "de2cf2ee",
   "metadata": {},
   "source": [
    "<h4> Gerar um triangulo de altura e lados n e base 2*n-1 </h4>"
   ]
  },
  {
   "cell_type": "code",
   "execution_count": 16,
   "id": "92de2493",
   "metadata": {},
   "outputs": [
    {
     "name": "stdout",
     "output_type": "stream",
     "text": [
      "\n",
      "*\n",
      "***\n",
      "*****\n",
      "*******\n",
      "*********\n",
      "***********\n",
      "*************\n",
      "***************\n",
      "*****************\n",
      "*******************\n",
      "*********************\n"
     ]
    }
   ],
   "source": [
    "def gera_triangulo(n):\n",
    "    for i in range(n):\n",
    "        print('*'*(2*i-1))\n",
    "\n",
    "gera_triangulo(12)"
   ]
  },
  {
   "attachments": {},
   "cell_type": "markdown",
   "id": "34cc1746",
   "metadata": {},
   "source": [
    "<h4> Função que receba um número N e retorne a soma dos algarismo de N! </h4>"
   ]
  },
  {
   "cell_type": "code",
   "execution_count": 3,
   "id": "65cef3bd",
   "metadata": {},
   "outputs": [
    {
     "data": {
      "text/plain": [
       "6"
      ]
     },
     "execution_count": 3,
     "metadata": {},
     "output_type": "execute_result"
    }
   ],
   "source": [
    "def fatorial_loop(n):\n",
    "    fatorial = 1\n",
    "    for i in range(n,1,-1):\n",
    "        fatorial = fatorial * i\n",
    "    print(fatorial)\n",
    "\n",
    "def fatorial_recursivo(x):\n",
    "    if x==1:\n",
    "        return 1\n",
    "    else:\n",
    "        return x * fatorial_recursivo(x-1)\n",
    "    \n",
    "def soma_algorismos(numero):\n",
    "    soma = 0\n",
    "    for numero in str(numero):\n",
    "        soma += int(numero)\n",
    "    return soma\n",
    "\n",
    "soma_algorismos(fatorial_recursivo(4))"
   ]
  },
  {
   "cell_type": "code",
   "execution_count": null,
   "id": "8638decc",
   "metadata": {},
   "outputs": [],
   "source": []
  }
 ],
 "metadata": {
  "kernelspec": {
   "display_name": "Python 3 (ipykernel)",
   "language": "python",
   "name": "python3"
  },
  "language_info": {
   "codemirror_mode": {
    "name": "ipython",
    "version": 3
   },
   "file_extension": ".py",
   "mimetype": "text/x-python",
   "name": "python",
   "nbconvert_exporter": "python",
   "pygments_lexer": "ipython3",
   "version": "3.8.10"
  }
 },
 "nbformat": 4,
 "nbformat_minor": 5
}
