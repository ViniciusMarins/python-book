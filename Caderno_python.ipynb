{
 "cells": [
  {
   "cell_type": "markdown",
   "id": "c75057db",
   "metadata": {},
   "source": [
    "<h1> Módulo Collections </h1>"
   ]
  },
  {
   "cell_type": "markdown",
   "id": "ae0539de",
   "metadata": {},
   "source": [
    "Deque -> Podemos dizer que o deque é uma lista de alta performance"
   ]
  },
  {
   "cell_type": "code",
   "execution_count": 7,
   "id": "7eb83f49",
   "metadata": {},
   "outputs": [
    {
     "name": "stdout",
     "output_type": "stream",
     "text": [
      "deque(['g', 'e', 'e', 'k'])\n",
      "deque(['g', 'e', 'e', 'k', 'y'])\n",
      "deque(['k', 'g', 'e', 'e', 'k', 'y'])\n",
      "y deque(['k', 'g', 'e', 'e', 'k'])\n",
      "y deque(['g', 'e', 'e', 'k'])\n"
     ]
    }
   ],
   "source": [
    "from collections import deque\n",
    "\n",
    "deq = deque('geek')\n",
    "print(deq)\n",
    "\n",
    "deq.append('y')\n",
    "print(deq)\n",
    "\n",
    "# Até então não temos muitas diferenças\n",
    "\n",
    "# Porém e possivel adicionar elementos no final ou no começo do deque\n",
    "# utilizando o appendleft\n",
    "deq.appendleft('k')\n",
    "print(deq)\n",
    "\n",
    "# Mesma coisa para a remoção\n",
    "retorno = deq.pop() # remove o primeiro elemento da direita\n",
    "print(retorno,deq)\n",
    "\n",
    "# Remove o primeiro elemento da esquerda\n",
    "retornoleft = deq.popleft()\n",
    "print(retorno,deq)\n",
    "\n"
   ]
  }
 ],
 "metadata": {
  "kernelspec": {
   "display_name": "Python 3 (ipykernel)",
   "language": "python",
   "name": "python3"
  },
  "language_info": {
   "codemirror_mode": {
    "name": "ipython",
    "version": 3
   },
   "file_extension": ".py",
   "mimetype": "text/x-python",
   "name": "python",
   "nbconvert_exporter": "python",
   "pygments_lexer": "ipython3",
   "version": "3.8.10"
  }
 },
 "nbformat": 4,
 "nbformat_minor": 5
}
