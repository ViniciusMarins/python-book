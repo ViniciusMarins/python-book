{
 "cells": [
  {
   "cell_type": "markdown",
   "id": "3d984e45",
   "metadata": {},
   "source": [
    "<h1> Módulo Collections </h1>"
   ]
  },
  {
   "cell_type": "markdown",
   "id": "d62719eb",
   "metadata": {},
   "source": [
    "<h2> Deques </h2>"
   ]
  },
  {
   "cell_type": "markdown",
   "id": "718ad09a",
   "metadata": {},
   "source": [
    "Deque -> Podemos dizer que o deque é uma lista de alta performance"
   ]
  },
  {
   "cell_type": "code",
   "execution_count": 7,
   "id": "194587cc",
   "metadata": {
    "scrolled": true
   },
   "outputs": [
    {
     "name": "stdout",
     "output_type": "stream",
     "text": [
      "deque(['g', 'e', 'e', 'k'])\n",
      "deque(['g', 'e', 'e', 'k', 'y'])\n",
      "deque(['k', 'g', 'e', 'e', 'k', 'y'])\n",
      "y deque(['k', 'g', 'e', 'e', 'k'])\n",
      "y deque(['g', 'e', 'e', 'k'])\n"
     ]
    }
   ],
   "source": [
    "from collections import deque\n",
    "\n",
    "deq = deque('geek')\n",
    "print(deq)\n",
    "\n",
    "deq.append('y')\n",
    "print(deq)\n",
    "\n",
    "# Até então não temos muitas diferenças\n",
    "\n",
    "# Porém e possivel adicionar elementos no final ou no começo do deque\n",
    "# utilizando o appendleft\n",
    "deq.appendleft('k')\n",
    "print(deq)\n",
    "\n",
    "# Mesma coisa para a remoção\n",
    "retorno = deq.pop() # remove o primeiro elemento da direita\n",
    "print(retorno,deq)\n",
    "\n",
    "# Remove o primeiro elemento da esquerda\n",
    "retornoleft = deq.popleft()\n",
    "print(retorno,deq)\n",
    "\n"
   ]
  },
  {
   "cell_type": "markdown",
   "id": "b95f2adb",
   "metadata": {},
   "source": [
    "<h1> Funções </h1>"
   ]
  },
  {
   "cell_type": "markdown",
   "id": "265bb73d",
   "metadata": {},
   "source": [
    "OBS: Se tivermos uma variavel local com o mesmo nome de uma variavel global, a local terá preferencia."
   ]
  },
  {
   "cell_type": "code",
   "execution_count": 15,
   "id": "68fa0033",
   "metadata": {},
   "outputs": [
    {
     "name": "stdout",
     "output_type": "stream",
     "text": [
      "Oi.\n",
      "Olá vinicius.\n",
      "{'numero': 123, 'titular': 'vinicius', 'saldo': 500, 'limite': 100}\n",
      "1 2 3 4 5\n"
     ]
    }
   ],
   "source": [
    "# Exemplo de utilização de funções em python\n",
    "\n",
    "\"\"\"\n",
    "def nome da função(parametros de entrada):\n",
    "     bloco da função\n",
    "\n",
    "\n",
    "OBS: \n",
    "-Parametros de entrada são opcionais, se existir, são separados por virgula.\n",
    "-Bloco da função é tudo que pertence à uma função, sendo que o escopo dela é delimitado\n",
    "pela identação.\n",
    "\"\"\"\n",
    "\n",
    "# declaração de função sem parametro\n",
    "def diz_oi():\n",
    "    print('Oi.')\n",
    "    \n",
    "# função com parametros   \n",
    "def say_hello(nome):\n",
    "    print(f'Olá {nome}.')\n",
    "\n",
    "# função com parametros e retornando um conteudo\n",
    "def cria_conta(numero, titular, saldo, limite):\n",
    "   conta = {\"numero\": numero, \"titular\": titular, \"saldo\": saldo, \"limite\": limite}\n",
    "   return conta\n",
    "\n",
    "# retorno de múltiplos valores\n",
    "def função():\n",
    "    return 1,2,3,4,5\n",
    "    \n",
    "\n",
    "# chamada das funções\n",
    "diz_oi()\n",
    "say_hello('vinicius')\n",
    "\n",
    "conta = cria_conta(123,'vinicius',500,100)\n",
    "print(conta)\n",
    "\n",
    "num1,num2,num3,num4,num5 = função()\n",
    "print(num1,num2,num3,num4,num5)\n",
    "\n"
   ]
  },
  {
   "cell_type": "code",
   "execution_count": 103,
   "id": "627ac0cc",
   "metadata": {},
   "outputs": [
    {
     "data": {
      "text/plain": [
       "'Cara'"
      ]
     },
     "execution_count": 103,
     "metadata": {},
     "output_type": "execute_result"
    }
   ],
   "source": [
    "from random import random\n",
    "\n",
    "def jogar_moeda():\n",
    "    valor = random()\n",
    "    if valor > 0.5:\n",
    "        return 'Cara'\n",
    "    return 'Coroa'\n",
    "\n",
    "\n",
    "jogar_moeda()"
   ]
  },
  {
   "cell_type": "markdown",
   "id": "724816f0",
   "metadata": {},
   "source": [
    "<h3> Funções com parametro padrão </h3>"
   ]
  },
  {
   "cell_type": "markdown",
   "id": "d732c453",
   "metadata": {},
   "source": [
    "Funções que são definidas no parametro um valor padrão.<br>\n",
    "Os parametros com valores padrão devem sempre estar ao final da declaração."
   ]
  },
  {
   "cell_type": "code",
   "execution_count": 107,
   "id": "8126da23",
   "metadata": {},
   "outputs": [
    {
     "data": {
      "text/plain": [
       "4"
      ]
     },
     "execution_count": 107,
     "metadata": {},
     "output_type": "execute_result"
    }
   ],
   "source": [
    "# Exemplo:\n",
    "\n",
    "# Sem definir o parametro padrão\n",
    "def exponencial(numero,potencia):\n",
    "    return numero ** potencia\n",
    "\n",
    "# Chamando a função sem a passagem dos respectivos parametros irá dar erro\n",
    "# exponencial(2)\n",
    "\n",
    "# Defininido a função com parametro padrão\n",
    "def exponencial_padrao(numero, potencia = 2):\n",
    "    return numero ** potencia\n",
    "\n",
    "# a passagem de parametro da potencia virá opcional, por padrão irá elevar a 2\n",
    "exponencial_padrao(2)"
   ]
  },
  {
   "cell_type": "markdown",
   "id": "ebd09f11",
   "metadata": {},
   "source": [
    "<h3> Utilizar variaveis globais inicializadas fora do escopo da função </h3>"
   ]
  },
  {
   "cell_type": "code",
   "execution_count": 108,
   "id": "dd4b1d45",
   "metadata": {},
   "outputs": [
    {
     "data": {
      "text/plain": [
       "1"
      ]
     },
     "execution_count": 108,
     "metadata": {},
     "output_type": "execute_result"
    }
   ],
   "source": [
    "total = 0\n",
    "\n",
    "# Utilizamos a palavra chave 'global' antes da variavel para referenciar a variavel\n",
    "# total que esta no escopo global\n",
    "def incrementa():\n",
    "    global total\n",
    "    \n",
    "    total = total + 1\n",
    "    return total\n",
    "\n",
    "incrementa()"
   ]
  },
  {
   "cell_type": "markdown",
   "id": "78f394b5",
   "metadata": {},
   "source": [
    "<h3> Funções declaradas dentro de outras funções </h3>\n"
   ]
  },
  {
   "cell_type": "code",
   "execution_count": 109,
   "id": "ec87cdb6",
   "metadata": {
    "scrolled": true
   },
   "outputs": [
    {
     "data": {
      "text/plain": [
       "1"
      ]
     },
     "execution_count": 109,
     "metadata": {},
     "output_type": "execute_result"
    }
   ],
   "source": [
    "# Note que usamos a palavra chave 'nonlocal' para usar uma variavel no escopo\n",
    "# anterior, ou seja que não esta local.\n",
    "def fora():\n",
    "    contador = 0\n",
    "    \n",
    "    def dentro():\n",
    "        nonlocal contador\n",
    "        contador+=1\n",
    "        return contador\n",
    "    \n",
    "    return dentro()\n",
    "\n",
    "fora()"
   ]
  },
  {
   "cell_type": "markdown",
   "id": "8ea85f5d",
   "metadata": {},
   "source": [
    "<h1> Entendendo o *args </h1>\n"
   ]
  },
  {
   "cell_type": "markdown",
   "id": "fc044984",
   "metadata": {},
   "source": [
    "São os parametros extras que podemos passar para uma função <br>\n",
    "Cada elemento é separado por virgula, então cada parametro vira uma posição da tupla que será criada."
   ]
  },
  {
   "cell_type": "code",
   "execution_count": 2,
   "id": "6e0fa5f3",
   "metadata": {},
   "outputs": [
    {
     "name": "stdout",
     "output_type": "stream",
     "text": [
      "25\n",
      "60\n",
      "171\n"
     ]
    }
   ],
   "source": [
    "# basicamente pega os argumentos passados como parametro na chamada da função\n",
    "# e armazena em uma tupla, com todos os parametros agrupados\n",
    "def soma_numeros(*args):\n",
    "    total = 0\n",
    "    for numero in args:\n",
    "        total += numero\n",
    "    return total\n",
    "\n",
    "print(soma_numeros(1,2,3,4,5,10))\n",
    "\n",
    "\n",
    "# simplificando o código acima, com a função de soma que podemos usar em tuplas\n",
    "def soma_simplificada(*args):\n",
    "    return sum(args)\n",
    "\n",
    "print(soma_simplificada(10,20,30))\n",
    "\n",
    "\n",
    "def exemplo(nome,*args):\n",
    "    return sum(args)\n",
    "\n",
    "print(exemplo('vinicius',1,2,3,4,5,6,20,130))"
   ]
  },
  {
   "cell_type": "markdown",
   "id": "6eb72d5b",
   "metadata": {},
   "source": [
    "<h3> Desempacotar valores automaticamente </h3>"
   ]
  },
  {
   "cell_type": "code",
   "execution_count": 3,
   "id": "97b40ab3",
   "metadata": {},
   "outputs": [
    {
     "name": "stdout",
     "output_type": "stream",
     "text": [
      "0\n",
      "9\n",
      "9\n"
     ]
    },
    {
     "data": {
      "text/plain": [
       "'\\nOBS: O asterisco serve para que informemos ao Python que estamos passando como\\nargumento uma coleção de dados,desta forma, ele saberá que precisará desempacotar \\nestes dados\\n'"
      ]
     },
     "execution_count": 3,
     "metadata": {},
     "output_type": "execute_result"
    }
   ],
   "source": [
    "numeros = [1,2,3,4]\n",
    "\n",
    "# gera um erro pois a lista será um item unico dentro da tupla\n",
    "print(exemplo(numeros))\n",
    "\n",
    "# solução manual\n",
    "num1,num2,num3,num4 = numeros\n",
    "print(exemplo(num1,num2,num3,num4))\n",
    "\n",
    "# solução automatica\n",
    "print(exemplo(*numeros))\n",
    "\n",
    "\"\"\"\n",
    "OBS: O asterisco serve para que informemos ao Python que estamos passando como\n",
    "argumento uma coleção de dados,desta forma, ele saberá que precisará desempacotar \n",
    "estes dados\n",
    "\"\"\""
   ]
  },
  {
   "attachments": {},
   "cell_type": "markdown",
   "id": "c4bba41e",
   "metadata": {},
   "source": [
    "<h1> List Comprehension </h1>"
   ]
  },
  {
   "attachments": {},
   "cell_type": "markdown",
   "id": "449362b4",
   "metadata": {},
   "source": [
    "Podemos gerar novas listas com dados processados a partir de outro iterável.\n"
   ]
  },
  {
   "cell_type": "code",
   "execution_count": 6,
   "id": "10f77cfe",
   "metadata": {},
   "outputs": [
    {
     "name": "stdout",
     "output_type": "stream",
     "text": [
      "[10, 20, 30, 40, 50]\n"
     ]
    }
   ],
   "source": [
    "# [dado for dado in iteravel]\n",
    "\n",
    "numeros  = [1,2,3,4,5]\n",
    "\n",
    "# podemos gerar novos dados e adicionar numa lista a partir do\n",
    "# processamento de dados de um iteravel ja existente\n",
    "res = [numero * 10 for numero in numeros]\n",
    "print(res)"
   ]
  },
  {
   "cell_type": "code",
   "execution_count": 7,
   "id": "6b6affb2",
   "metadata": {},
   "outputs": [
    {
     "name": "stdout",
     "output_type": "stream",
     "text": [
      "[1, 4, 9, 16, 25]\n"
     ]
    }
   ],
   "source": [
    "# Podemos usar qualquer tipo de processamento de dados\n",
    "# para gerar essa nova lista, como por exemplo usar uma função\n",
    "def multiplica(valor):\n",
    "    return valor*valor\n",
    "\n",
    "lista = [multiplica(numero) for numero in numeros]\n",
    "\n",
    "print(lista)"
   ]
  },
  {
   "cell_type": "code",
   "execution_count": 10,
   "id": "1777b9d2",
   "metadata": {},
   "outputs": [
    {
     "name": "stdout",
     "output_type": "stream",
     "text": [
      "Método tradicional:[2, 4, 6, 8, 10]\n",
      "List comprehension:[2, 4, 6, 8, 10]\n"
     ]
    }
   ],
   "source": [
    "# Vamos supor que voce queira dobrar o valor de numeros\n",
    "\n",
    "# Método tradicional\n",
    "num = [1,2,3,4,5]\n",
    "num_dobrados = []\n",
    "\n",
    "for numero in num:\n",
    "    num_dobrados.append(numero*2)\n",
    "print(f'Método tradicional:{num_dobrados}')\n",
    "\n",
    "\n",
    "# Utilizando list comprehension\n",
    "numeros_dobrados = [numero*2 for numero in num]\n",
    "print(f'List comprehension:{numeros_dobrados}')"
   ]
  },
  {
   "cell_type": "code",
   "execution_count": 15,
   "id": "fa40adf1",
   "metadata": {},
   "outputs": [
    {
     "name": "stdout",
     "output_type": "stream",
     "text": [
      "['Vinicius', 'Gustavo', 'Guilherme', 'Gabriel']\n"
     ]
    }
   ],
   "source": [
    "nomes = ['vinicius','gustavo','guilherme','gabriel']\n",
    "\n",
    "# Lista com os nomes com a primeira letra em maiusculo\n",
    "lista = [nome.capitalize() for nome in nomes]\n",
    "print(lista)"
   ]
  },
  {
   "attachments": {},
   "cell_type": "markdown",
   "id": "18aa7507",
   "metadata": {},
   "source": [
    "<h3> Podemos utilizar as Listas Comprehension com estruturas condicionais lógicas </h3>"
   ]
  },
  {
   "cell_type": "code",
   "execution_count": 37,
   "id": "bcd9cc84",
   "metadata": {},
   "outputs": [
    {
     "name": "stdout",
     "output_type": "stream",
     "text": [
      "[0, 2, 4, 6, 8, 10, 12, 14, 16, 18, 20]\n",
      "[1, 3, 5, 7, 9, 11, 13, 15, 17, 19]\n",
      "[0, 0.5, 2, 1.5, 4, 2.5, 6, 3.5, 8, 4.5, 10, 5.5, 12, 6.5, 14, 7.5, 16, 8.5, 18, 9.5, 20]\n"
     ]
    }
   ],
   "source": [
    "# Criando uma nova lista somente com os números pares\n",
    "\n",
    "numeros = list(range(21))\n",
    "\n",
    "# Percorre -> para cada numero em numeros se o numero for par\n",
    "# adiciona atribui a variavel 'numero'\n",
    "numeros_pares = [numero for numero in numeros if numero%2==0]\n",
    "print(numeros_pares)\n",
    "\n",
    "numeros_impares = [numero for numero in numeros if not numero%2==0]\n",
    "print(numeros_impares)\n",
    "\n",
    "# Utilizando if e else\n",
    "dados = [numero if numero%2==0 else numero/2 for numero in numeros]\n",
    "print(dados)"
   ]
  },
  {
   "attachments": {},
   "cell_type": "markdown",
   "id": "1082828f",
   "metadata": {},
   "source": [
    "<h1> Listas Aninhadas </h1>\n"
   ]
  },
  {
   "attachments": {},
   "cell_type": "markdown",
   "id": "9d166b66",
   "metadata": {},
   "source": [
    "Algumas linguagens de programação possuem uma estrutura de dados chamada de arrays:<br>\n",
    "-Unidimensionais(Arrays/Vetores)<br>\n",
    "-Multidimensionais(Matrizes)<br><br>\n",
    "Em python nós temos as listas.\n"
   ]
  },
  {
   "attachments": {},
   "cell_type": "markdown",
   "id": "329dc34f",
   "metadata": {},
   "source": [
    "Em python como não temos a estrutura de dados de uma matriz, nós utilizamos uma lista de listas."
   ]
  },
  {
   "cell_type": "code",
   "execution_count": 89,
   "id": "d38bd446",
   "metadata": {},
   "outputs": [
    {
     "name": "stdout",
     "output_type": "stream",
     "text": [
      "[[1, 2, 3, 8], [2, 3, 4, 9], [3, 4, 5, 10]]\n",
      "<class 'list'>\n",
      "1|2|3|8|\n",
      "2|3|4|9|\n",
      "3|4|5|10|\n",
      "\n",
      "1|2|3|8|\n",
      "2|3|4|9|\n",
      "3|4|5|10|\n",
      "1|2|3|8|2|3|4|9|3|4|5|10|"
     ]
    },
    {
     "data": {
      "text/plain": [
       "[[None, None, None, None], [None, None, None, None], [None, None, None, None]]"
      ]
     },
     "execution_count": 89,
     "metadata": {},
     "output_type": "execute_result"
    }
   ],
   "source": [
    "# Matriz 3x3\n",
    "rows = 3\n",
    "cols = 4\n",
    "\n",
    "matriz = [\n",
    "    [1,2,3,8],\n",
    "    [2,3,4,9],\n",
    "    [3,4,5,10]\n",
    "]\n",
    "\n",
    "print(matriz)\n",
    "print(type(matriz))\n",
    "\n",
    "# Impressão quando se sabe o numero de linhas e colunas\n",
    "for i in range(rows):\n",
    "    for j in range(cols):\n",
    "        print(matriz[i][j], end = '|')\n",
    "    print()\n",
    "\n",
    "print()\n",
    "# Percorrer a matriz sem numero de linhas e colunas\n",
    "for linha in matriz:\n",
    "    for numero in linha:\n",
    "        print(numero, end='|')\n",
    "    print()\n",
    "\n",
    "# Imprimindo os numeros de cada linhas e coluna com list comprehension\n",
    "[[print(valor,end='|') for valor in lista] for lista in matriz]"
   ]
  }
 ],
 "metadata": {
  "kernelspec": {
   "display_name": "Python 3 (ipykernel)",
   "language": "python",
   "name": "python3"
  },
  "language_info": {
   "codemirror_mode": {
    "name": "ipython",
    "version": 3
   },
   "file_extension": ".py",
   "mimetype": "text/x-python",
   "name": "python",
   "nbconvert_exporter": "python",
   "pygments_lexer": "ipython3",
   "version": "3.8.10"
  }
 },
 "nbformat": 4,
 "nbformat_minor": 5
}
