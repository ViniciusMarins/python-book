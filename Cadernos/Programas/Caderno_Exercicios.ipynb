{
 "cells": [
  {
   "cell_type": "markdown",
   "id": "3ada0974",
   "metadata": {},
   "source": [
    "<h1> Caderno de Exercícios python </h1>"
   ]
  },
  {
   "cell_type": "markdown",
   "id": "a1fac530",
   "metadata": {},
   "source": [
    "<h4> Função para verificar se um número é quadrado perfeito </h4>"
   ]
  },
  {
   "cell_type": "code",
   "execution_count": 3,
   "id": "ef8d89ef",
   "metadata": {},
   "outputs": [
    {
     "name": "stdout",
     "output_type": "stream",
     "text": [
      "O número é quadrado perfeito.\n"
     ]
    }
   ],
   "source": [
    "def quadrado_perfeito(numero):\n",
    "    for i in range(numero):\n",
    "        for j in range(numero):\n",
    "            if i**j == numero:\n",
    "                return 'O número é quadrado perfeito.'\n",
    "    return 'O número não é quadrado perfeito.'\n",
    "            \n",
    "print(quadrado_perfeito(9))"
   ]
  },
  {
   "cell_type": "markdown",
   "id": "c270e405",
   "metadata": {},
   "source": [
    "<h4> Função para calcular o volume de uma esfera </h4>"
   ]
  },
  {
   "cell_type": "code",
   "execution_count": 4,
   "id": "e3a9ca81",
   "metadata": {},
   "outputs": [
    {
     "name": "stdout",
     "output_type": "stream",
     "text": [
      "33.49333333333333\n"
     ]
    }
   ],
   "source": [
    "def calcula_volume(raio):\n",
    "    return 4/3 * 3.14 * raio**3\n",
    "\n",
    "print(calcula_volume(2))"
   ]
  },
  {
   "cell_type": "markdown",
   "id": "de2cf2ee",
   "metadata": {},
   "source": [
    "<h4> Gerar um triangulo de altura e lados n e base 2*n-1 </h4>"
   ]
  },
  {
   "cell_type": "code",
   "execution_count": 16,
   "id": "92de2493",
   "metadata": {},
   "outputs": [
    {
     "name": "stdout",
     "output_type": "stream",
     "text": [
      "\n",
      "*\n",
      "***\n",
      "*****\n",
      "*******\n",
      "*********\n",
      "***********\n",
      "*************\n",
      "***************\n",
      "*****************\n",
      "*******************\n",
      "*********************\n"
     ]
    }
   ],
   "source": [
    "def gera_triangulo(n):\n",
    "    for i in range(n):\n",
    "        print('*'*(2*i-1))\n",
    "\n",
    "gera_triangulo(12)"
   ]
  },
  {
   "cell_type": "markdown",
   "id": "34cc1746",
   "metadata": {},
   "source": [
    "<h4> Função que receba um número N e retorne a soma dos algarismo de N! </h4>"
   ]
  },
  {
   "cell_type": "code",
   "execution_count": 3,
   "id": "65cef3bd",
   "metadata": {},
   "outputs": [
    {
     "data": {
      "text/plain": [
       "6"
      ]
     },
     "execution_count": 3,
     "metadata": {},
     "output_type": "execute_result"
    }
   ],
   "source": [
    "def fatorial_loop(n):\n",
    "    fatorial = 1\n",
    "    for i in range(n,1,-1):\n",
    "        fatorial = fatorial * i\n",
    "    print(fatorial)\n",
    "\n",
    "def fatorial_recursivo(x):\n",
    "    if x==1:\n",
    "        return 1\n",
    "    else:\n",
    "        return x * fatorial_recursivo(x-1)\n",
    "    \n",
    "def soma_algorismos(numero):\n",
    "    soma = 0\n",
    "    for numero in str(numero):\n",
    "        soma += int(numero)\n",
    "    return soma\n",
    "\n",
    "soma_algorismos(fatorial_recursivo(4))"
   ]
  },
  {
   "cell_type": "markdown",
   "id": "8638decc",
   "metadata": {},
   "source": [
    "<h4> Programa que a partir de um arquivo txt com um texto sem quebras de linhas, informa a quantidade de palavras do texto. Para cada palavra é informada a quantidade de vogais e consoantes. </h4>"
   ]
  },
  {
   "cell_type": "code",
   "execution_count": null,
   "id": "d36d1344",
   "metadata": {},
   "outputs": [],
   "source": [
    "import string\n",
    "\n",
    "nome = \"D:\\Prog1.txt\"\n",
    "with open(nome) as f:\n",
    "    dados = f.read().strip().lower().split(' ')\n",
    "\n",
    "dados_order = sorted(dados,reverse=True,key = lambda s:len(s))\n",
    "\n",
    "palavras = {}\n",
    "for palavra in dados_order:\n",
    "\n",
    "    cont_vogal = 0\n",
    "    cont_consoante = 0\n",
    "\n",
    "    for caracter in palavra:\n",
    "        if caracter in string.ascii_lowercase:\n",
    "            if caracter in 'aeiou':\n",
    "                cont_vogal+=1\n",
    "            elif caracter in (set(string.ascii_lowercase) - set({'a','e','i','o','u'})):\n",
    "                cont_consoante+=1\n",
    "    \n",
    "    palavras[palavra] = (cont_vogal,cont_consoante)\n",
    "\n",
    "\n",
    "for chave,valor in palavras.items():\n",
    "    quantidade_vogais,quantidade_consoantes = valor[0],valor[1]\n",
    "    print(f'\\n\\t {chave}\\n Quantidade de Vogais:{quantidade_vogais}\\n Quantidade de Consoantes:{quantidade_consoantes}')\n",
    "    print()"
   ]
  },
  {
   "cell_type": "markdown",
   "id": "96acfd32",
   "metadata": {},
   "source": [
    "<h4> Programa que a partir de um arquivo txt com um texto com quebra de linhas, informa qual a linha possui a maior quantidade de palavras. Em cada linha, para cada palavra dela, é feito a contagem da quantidade de vogais e consoantes. Por fim, é gerado um novo arquivo txt possuindo o mesmo texto de entrada, só que ao final de cada linha deve ser informado o total de vogais e consoantes respectivos a ela - formato: \"= (quantidade_vogais,quantidade_consoantes)\". Ao final do arquivo, informar a maior linha. </h4>"
   ]
  },
  {
   "cell_type": "code",
   "execution_count": null,
   "id": "ce4c7fb6",
   "metadata": {},
   "outputs": [],
   "source": [
    "import string\n",
    "\n",
    "nome = \"D:\\Prog2.txt\"\n",
    "with open(nome) as f:\n",
    "    dados = f.read().split('\\n')\n",
    "\n",
    "linhas = []\n",
    "for linha in dados:\n",
    "    linhas.append(linha.split(' '))\n",
    "\n",
    "dic = {}\n",
    "for indice,linha in enumerate(linhas):\n",
    "    dic[indice+1] = len(linha)\n",
    "\n",
    "maior = max(dic.values())\n",
    "for indice,valor in dic.items():\n",
    "    if maior == valor:\n",
    "        indice_maior = indice\n",
    "\n",
    "contador = 1\n",
    "with open(\"D:\\Prog2-saida.txt\",\"w\") as saida:\n",
    "    for linha in linhas:\n",
    "        palavras = {}\n",
    "        total_v = 0\n",
    "        total_c = 0\n",
    "\n",
    "        print(f'\\t-----!Linha número {contador}!----- ')\n",
    "        for palavra in linha:\n",
    "            cont_vogal = 0\n",
    "            cont_consoante = 0\n",
    "\n",
    "            for caracter in palavra:\n",
    "                if caracter in string.ascii_lowercase:\n",
    "                    if caracter in 'aeiou':\n",
    "                        cont_vogal+=1\n",
    "                    elif caracter in (set(string.ascii_lowercase) - set({'a','e','i','o','u'})):\n",
    "                        cont_consoante+=1\n",
    "            \n",
    "            palavras[palavra] = (cont_vogal,cont_consoante)\n",
    "            \n",
    "            total_v += cont_vogal\n",
    "            total_c += cont_consoante\n",
    "\n",
    "        texto = \" \".join(str(p) for p in linha)\n",
    "        saida.write(texto + ' = ' + '(' + str(total_v) + ',' + str(total_c) + ')' + '\\n')\n",
    "        \n",
    "        for chave,valor in palavras.items():\n",
    "            quantidade_vogais,quantidade_consoantes = valor[0],valor[1]\n",
    "            print(f'\\n\\t {chave}\\n Quantidade de Vogais:{quantidade_vogais}\\n Quantidade de Consoantes:{quantidade_consoantes}')\n",
    "            print()\n",
    "        contador+=1\n",
    "    \n",
    "    saida.write(f'Linha com maior número de palavras: {indice_maior}')"
   ]
  },
  {
   "cell_type": "code",
   "execution_count": 3,
   "id": "22cd9181",
   "metadata": {},
   "outputs": [
    {
     "name": "stdout",
     "output_type": "stream",
     "text": [
      "1\n",
      "2\n",
      "-1\n",
      "3\n",
      "-1\n"
     ]
    }
   ],
   "source": [
    "def getMinimumIncrement(arr):\n",
    "  n = len(arr)\n",
    "\n",
    "  isNonDecreasing = True\n",
    "  for i in range(n):\n",
    "    if not i == n-1 and arr[i] > arr[i+1]:\n",
    "      isNonDecreasing = False\n",
    "      break\n",
    "\n",
    "  if isNonDecreasing:\n",
    "    return\n",
    "  \n",
    "  diffArr = []\n",
    "  increments = []\n",
    "\n",
    "  for i in range(n):\n",
    "    if not arr[i] == arr[n-1] and arr[i] > arr[i+1]:\n",
    "      diffArr.append(i+1)\n",
    "      increments.append(arr[i] - arr[i+1])\n",
    "\n",
    "  minValue = max(increments)\n",
    "\n",
    "  for i in range(n):\n",
    "    if i in diffArr:\n",
    "      arr[i] += minValue\n",
    " \n",
    "  for i in range(n):\n",
    "    if not i == n-1 and arr[i] > arr[i+1]:\n",
    "      return -1\n",
    "  \n",
    "  return minValue\n",
    "\n",
    "print(getMinimumIncrement([1, 1, 3, 2]))\n",
    "print(getMinimumIncrement([3, 1, 3, 2, 4]))\n",
    "print(getMinimumIncrement([4, 1, 3, 5, 6, 5]))\n",
    "print(getMinimumIncrement([1, 4, 1, 5, 9]))\n",
    "print(getMinimumIncrement([5, 2, 1, 7, 2]))"
   ]
  },
  {
   "cell_type": "code",
   "execution_count": 6,
   "id": "82f3159f",
   "metadata": {},
   "outputs": [
    {
     "name": "stdout",
     "output_type": "stream",
     "text": [
      "4\n",
      "3\n",
      "15\n"
     ]
    }
   ],
   "source": [
    "letter_mapping = {\n",
    "  \"a\": 1,\n",
    "  \"b\": 1,\n",
    "  \"c\": 2,\n",
    "  \"d\": 2,\n",
    "  \"e\": 2,\n",
    "  \"f\": 3,\n",
    "  \"g\": 3,\n",
    "  \"h\": 3,\n",
    "  \"i\": 4,\n",
    "  \"j\": 4, \n",
    "  \"k\": 4,\n",
    "  \"l\": 5,\n",
    "  \"m\": 5,\n",
    "  \"n\": 5,\n",
    "  \"o\": 6,\n",
    "  \"p\": 6,\n",
    "  \"q\": 6,\n",
    "  \"r\": 7,\n",
    "  \"s\": 7,\n",
    "  \"t\": 7,\n",
    "  \"u\": 8,\n",
    "  \"v\": 8,\n",
    "  \"w\": 8,\n",
    "  \"x\": 9,\n",
    "  \"y\": 9,\n",
    "  \"z\": 9\n",
    "}\n",
    "\n",
    "def integrityScore(dataPacket:str):\n",
    "  combinations = []\n",
    "\n",
    "  for letter in dataPacket:\n",
    "    combinations.append(letter)\n",
    "\n",
    "  n = len(dataPacket)\n",
    "\n",
    "  for i in range(n):\n",
    "    substring = dataPacket[i]\n",
    "    for j in range(i+1,n):\n",
    "      substring += dataPacket[j]\n",
    "      combinations.append(substring)\n",
    "\n",
    "  score = 0\n",
    "  for word in combinations:\n",
    "    total = 0\n",
    "    for letter in word:\n",
    "      total += letter_mapping[letter]\n",
    "    \n",
    "    if total % len(word) == 0:\n",
    "      score+=1\n",
    "\n",
    "  print(score)\n",
    "\n",
    "integrityScore(\"cat\")\n",
    "integrityScore(\"hey\")\n",
    "integrityScore(\"vinicius\")"
   ]
  }
 ],
 "metadata": {
  "kernelspec": {
   "display_name": "Python 3",
   "language": "python",
   "name": "python3"
  },
  "language_info": {
   "codemirror_mode": {
    "name": "ipython",
    "version": 3
   },
   "file_extension": ".py",
   "mimetype": "text/x-python",
   "name": "python",
   "nbconvert_exporter": "python",
   "pygments_lexer": "ipython3",
   "version": "3.13.0"
  }
 },
 "nbformat": 4,
 "nbformat_minor": 5
}
