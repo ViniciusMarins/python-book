{
 "cells": [
  {
   "attachments": {},
   "cell_type": "markdown",
   "id": "8caf9f1f",
   "metadata": {},
   "source": [
    "<h3> Ambientes Virtuais (venvs) </h3>\n",
    "<div style=\"text-align:justify\"> \n",
    "Ambiente virtuais são úteis para garantir uma maior compatibilidade de versão dos recursos que você estará utilizando. Podemos versionalizar bibliotecas e escolher a versão do python por exemplo, para evitar possíveis incompatibilidades.\n",
    "</div>\n",
    "<br>\n",
    "<div style=\"text-align:justify\">\n",
    "Além de que utilizar os venvs é uma maneira profissional de executar seus projetos python.\n",
    "</h1>\n",
    "\n"
   ]
  },
  {
   "attachments": {},
   "cell_type": "markdown",
   "id": "d8a653a7",
   "metadata": {},
   "source": [
    "<h1>Entrada e Saída de Dados </h1>"
   ]
  },
  {
   "attachments": {},
   "cell_type": "markdown",
   "id": "53055150",
   "metadata": {},
   "source": [
    "A entrada de dados é bem simples e não precisa ser declarada nenhuma variável para ser usada. "
   ]
  },
  {
   "attachments": {},
   "cell_type": "markdown",
   "id": "cf44e516",
   "metadata": {},
   "source": [
    "<h3>Entrada de dados</h3>"
   ]
  },
  {
   "cell_type": "code",
   "execution_count": 27,
   "id": "a96a4e06",
   "metadata": {},
   "outputs": [
    {
     "name": "stdout",
     "output_type": "stream",
     "text": [
      "Vinicius\n",
      "21\n"
     ]
    }
   ],
   "source": [
    "# Podemos passar as mensagens de dentro da função input()\n",
    "nome = input('Digite seu nome:')\n",
    "print(nome)\n",
    "\n",
    "# Se quisermos um tipo especifico de dado é necessário realizar um cast\n",
    "idade = int(input('Digite sua idade:'))\n",
    "print(idade)"
   ]
  },
  {
   "attachments": {},
   "cell_type": "markdown",
   "id": "c5d1e4b6",
   "metadata": {},
   "source": [
    "<h3>Saida de dados</h3>"
   ]
  },
  {
   "cell_type": "code",
   "execution_count": 31,
   "id": "876f204e",
   "metadata": {},
   "outputs": [
    {
     "name": "stdout",
     "output_type": "stream",
     "text": [
      "Seu nome é: Vinicius\n",
      "Seu nome é: Vinicius\n",
      "Seu nome é: Vinicius e sua idade é:21\n",
      "Vinicius|21->"
     ]
    }
   ],
   "source": [
    "# temos algumas formas para realizar um print\n",
    "\n",
    "# forma 1\n",
    "print(f'Seu nome é: {nome}')\n",
    "# forma 2\n",
    "print('Seu nome é: {}'.format(nome))\n",
    "# forma 3\n",
    "print(\"Seu nome é: \" + nome + \" e sua idade é:\" + str(idade))\n",
    "# forma 4\n",
    "print(nome,idade,sep='|',end='->')"
   ]
  },
  {
   "attachments": {},
   "cell_type": "markdown",
   "id": "474c1110",
   "metadata": {},
   "source": [
    "<h1> Tipos de Variáveis </h1>"
   ]
  },
  {
   "cell_type": "code",
   "execution_count": 35,
   "id": "a8d18164",
   "metadata": {},
   "outputs": [
    {
     "name": "stdout",
     "output_type": "stream",
     "text": [
      "2 22.4 Vini True\n",
      "<class 'int'>\n",
      "<class 'float'>\n",
      "<class 'str'>\n",
      "<class 'bool'>\n"
     ]
    }
   ],
   "source": [
    "\"\"\"\n",
    "Possui todos os tipos de variáveis que outras linguagens, porém \n",
    "como python não possui declaração de variável, é necessário realizar\n",
    "um cast para o tipo que for de desejo.\n",
    "\n",
    "\"\"\"\n",
    "\n",
    "int_number = int(input('Digite um numero:'))\n",
    "float_number = float(input('Digite um numero:'))\n",
    "string = input('Digite uma palavra')\n",
    "boolean = True or False\n",
    "\n",
    "print(int_number,float_number,string,boolean)\n",
    "print(type(int_number))\n",
    "print(type(float_number))\n",
    "print(type(string))\n",
    "print(type(boolean))\n"
   ]
  },
  {
   "attachments": {},
   "cell_type": "markdown",
   "id": "2c021f98",
   "metadata": {},
   "source": [
    "<h1> Estrutura Condicional </h1>"
   ]
  },
  {
   "cell_type": "code",
   "execution_count": 38,
   "id": "f741bab5",
   "metadata": {},
   "outputs": [
    {
     "name": "stdout",
     "output_type": "stream",
     "text": [
      "Maior que c menor que b\n"
     ]
    }
   ],
   "source": [
    "a = 2\n",
    "b = 5\n",
    "c = 1\n",
    "\n",
    "if a > b:\n",
    "    print('True')\n",
    "elif a > c:\n",
    "    print('Maior que c menor que b')\n",
    "else:\n",
    "    print('False')"
   ]
  },
  {
   "cell_type": "code",
   "execution_count": 42,
   "id": "81ff63a9",
   "metadata": {},
   "outputs": [
    {
     "name": "stdout",
     "output_type": "stream",
     "text": [
      "hello\n",
      "Executa esse código\n",
      "Senão printa isso\n"
     ]
    }
   ],
   "source": [
    "\"\"\"\n",
    "A estrutura do if ternário é a seguinte:\n",
    "\n",
    "'a if condition else b'\n",
    "\n",
    "\"\"\"\n",
    "\n",
    "x = 2\n",
    "print('hello') if x == 2 else print('not hello')\n",
    "print('Executa esse código') if x == 2 else print('Senão printa isso')\n",
    "\n",
    "x = 1\n",
    "print('Executa esse código') if x == 2 else print('Senão printa isso')\n"
   ]
  },
  {
   "attachments": {},
   "cell_type": "markdown",
   "id": "76dd7411",
   "metadata": {},
   "source": [
    "<h1> Operadores Lógicos </h1>"
   ]
  },
  {
   "attachments": {},
   "cell_type": "markdown",
   "id": "6b81e05b",
   "metadata": {},
   "source": [
    "<h3> And, Or, not , is </h3> "
   ]
  },
  {
   "attachments": {},
   "cell_type": "markdown",
   "id": "4ff91e92",
   "metadata": {},
   "source": [
    "<h1>Estruturas de Repetição</h1>"
   ]
  },
  {
   "attachments": {},
   "cell_type": "markdown",
   "id": "e0a64f84",
   "metadata": {},
   "source": [
    "<h1> Coleções </h1>"
   ]
  },
  {
   "cell_type": "markdown",
   "id": "3d984e45",
   "metadata": {},
   "source": [
    "<h1> Módulo Collections </h1>"
   ]
  },
  {
   "attachments": {},
   "cell_type": "markdown",
   "id": "7a5363a4",
   "metadata": {},
   "source": [
    "<h3> Counter </h3>"
   ]
  },
  {
   "attachments": {},
   "cell_type": "markdown",
   "id": "5496143e",
   "metadata": {},
   "source": [
    "<h3> Named Tuples </h3>"
   ]
  },
  {
   "attachments": {},
   "cell_type": "markdown",
   "id": "d62719eb",
   "metadata": {},
   "source": [
    "<h3> Deques </h3>"
   ]
  },
  {
   "cell_type": "markdown",
   "id": "718ad09a",
   "metadata": {},
   "source": [
    "Deque -> Podemos dizer que o deque é uma lista de alta performance"
   ]
  },
  {
   "cell_type": "code",
   "execution_count": null,
   "id": "194587cc",
   "metadata": {
    "scrolled": true
   },
   "outputs": [
    {
     "name": "stdout",
     "output_type": "stream",
     "text": [
      "deque(['g', 'e', 'e', 'k'])\n",
      "deque(['g', 'e', 'e', 'k', 'y'])\n",
      "deque(['k', 'g', 'e', 'e', 'k', 'y'])\n",
      "y deque(['k', 'g', 'e', 'e', 'k'])\n",
      "y deque(['g', 'e', 'e', 'k'])\n"
     ]
    }
   ],
   "source": [
    "from collections import deque\n",
    "\n",
    "deq = deque('geek')\n",
    "print(deq)\n",
    "\n",
    "deq.append('y')\n",
    "print(deq)\n",
    "\n",
    "# Até então não temos muitas diferenças\n",
    "\n",
    "# Porém e possivel adicionar elementos no final ou no começo do deque\n",
    "# utilizando o appendleft\n",
    "deq.appendleft('k')\n",
    "print(deq)\n",
    "\n",
    "# Mesma coisa para a remoção\n",
    "retorno = deq.pop() # remove o primeiro elemento da direita\n",
    "print(retorno,deq)\n",
    "\n",
    "# Remove o primeiro elemento da esquerda\n",
    "retornoleft = deq.popleft()\n",
    "print(retorno,deq)\n",
    "\n"
   ]
  },
  {
   "cell_type": "markdown",
   "id": "b95f2adb",
   "metadata": {},
   "source": [
    "<h1> Funções </h1>"
   ]
  },
  {
   "cell_type": "markdown",
   "id": "265bb73d",
   "metadata": {},
   "source": [
    "OBS: Se tivermos uma variavel local com o mesmo nome de uma variavel global, a local terá preferencia."
   ]
  },
  {
   "cell_type": "code",
   "execution_count": null,
   "id": "68fa0033",
   "metadata": {},
   "outputs": [
    {
     "name": "stdout",
     "output_type": "stream",
     "text": [
      "Oi.\n",
      "Olá vinicius.\n",
      "{'numero': 123, 'titular': 'vinicius', 'saldo': 500, 'limite': 100}\n",
      "1 2 3 4 5\n"
     ]
    }
   ],
   "source": [
    "# Exemplo de utilização de funções em python\n",
    "\n",
    "\"\"\"\n",
    "def nome da função(parametros de entrada):\n",
    "     bloco da função\n",
    "\n",
    "\n",
    "OBS: \n",
    "-Parametros de entrada são opcionais, se existir, são separados por virgula.\n",
    "-Bloco da função é tudo que pertence à uma função, sendo que o escopo dela é delimitado\n",
    "pela identação.\n",
    "\"\"\"\n",
    "\n",
    "# declaração de função sem parametro\n",
    "def diz_oi():\n",
    "    print('Oi.')\n",
    "    \n",
    "# função com parametros   \n",
    "def say_hello(nome):\n",
    "    print(f'Olá {nome}.')\n",
    "\n",
    "# função com parametros e retornando um conteudo\n",
    "def cria_conta(numero, titular, saldo, limite):\n",
    "   conta = {\"numero\": numero, \"titular\": titular, \"saldo\": saldo, \"limite\": limite}\n",
    "   return conta\n",
    "\n",
    "# retorno de múltiplos valores\n",
    "def função():\n",
    "    return 1,2,3,4,5\n",
    "    \n",
    "\n",
    "# chamada das funções\n",
    "diz_oi()\n",
    "say_hello('vinicius')\n",
    "\n",
    "conta = cria_conta(123,'vinicius',500,100)\n",
    "print(conta)\n",
    "\n",
    "num1,num2,num3,num4,num5 = função()\n",
    "print(num1,num2,num3,num4,num5)\n",
    "\n"
   ]
  },
  {
   "cell_type": "code",
   "execution_count": null,
   "id": "627ac0cc",
   "metadata": {},
   "outputs": [
    {
     "data": {
      "text/plain": [
       "'Cara'"
      ]
     },
     "execution_count": 103,
     "metadata": {},
     "output_type": "execute_result"
    }
   ],
   "source": [
    "from random import random\n",
    "\n",
    "def jogar_moeda():\n",
    "    valor = random()\n",
    "    if valor > 0.5:\n",
    "        return 'Cara'\n",
    "    return 'Coroa'\n",
    "\n",
    "\n",
    "jogar_moeda()"
   ]
  },
  {
   "cell_type": "markdown",
   "id": "724816f0",
   "metadata": {},
   "source": [
    "<h3> Funções com parametro padrão </h3>"
   ]
  },
  {
   "cell_type": "markdown",
   "id": "d732c453",
   "metadata": {},
   "source": [
    "Funções que são definidas no parametro um valor padrão.<br>\n",
    "Os parametros com valores padrão devem sempre estar ao final da declaração."
   ]
  },
  {
   "cell_type": "code",
   "execution_count": null,
   "id": "8126da23",
   "metadata": {},
   "outputs": [
    {
     "data": {
      "text/plain": [
       "4"
      ]
     },
     "execution_count": 107,
     "metadata": {},
     "output_type": "execute_result"
    }
   ],
   "source": [
    "# Exemplo:\n",
    "\n",
    "# Sem definir o parametro padrão\n",
    "def exponencial(numero,potencia):\n",
    "    return numero ** potencia\n",
    "\n",
    "# Chamando a função sem a passagem dos respectivos parametros irá dar erro\n",
    "# exponencial(2)\n",
    "\n",
    "# Defininido a função com parametro padrão\n",
    "def exponencial_padrao(numero, potencia = 2):\n",
    "    return numero ** potencia\n",
    "\n",
    "# a passagem de parametro da potencia virá opcional, por padrão irá elevar a 2\n",
    "exponencial_padrao(2)"
   ]
  },
  {
   "cell_type": "markdown",
   "id": "ebd09f11",
   "metadata": {},
   "source": [
    "<h3> Utilizar variaveis globais inicializadas fora do escopo da função </h3>"
   ]
  },
  {
   "cell_type": "code",
   "execution_count": null,
   "id": "dd4b1d45",
   "metadata": {},
   "outputs": [
    {
     "data": {
      "text/plain": [
       "1"
      ]
     },
     "execution_count": 108,
     "metadata": {},
     "output_type": "execute_result"
    }
   ],
   "source": [
    "total = 0\n",
    "\n",
    "# Utilizamos a palavra chave 'global' antes da variavel para referenciar a variavel\n",
    "# total que esta no escopo global\n",
    "def incrementa():\n",
    "    global total\n",
    "    \n",
    "    total = total + 1\n",
    "    return total\n",
    "\n",
    "incrementa()"
   ]
  },
  {
   "cell_type": "markdown",
   "id": "78f394b5",
   "metadata": {},
   "source": [
    "<h3> Funções declaradas dentro de outras funções </h3>\n"
   ]
  },
  {
   "cell_type": "code",
   "execution_count": null,
   "id": "ec87cdb6",
   "metadata": {
    "scrolled": true
   },
   "outputs": [
    {
     "data": {
      "text/plain": [
       "1"
      ]
     },
     "execution_count": 109,
     "metadata": {},
     "output_type": "execute_result"
    }
   ],
   "source": [
    "# Note que usamos a palavra chave 'nonlocal' para usar uma variavel no escopo\n",
    "# anterior, ou seja que não esta local.\n",
    "def fora():\n",
    "    contador = 0\n",
    "    \n",
    "    def dentro():\n",
    "        nonlocal contador\n",
    "        contador+=1\n",
    "        return contador\n",
    "    \n",
    "    return dentro()\n",
    "\n",
    "fora()"
   ]
  },
  {
   "cell_type": "markdown",
   "id": "8ea85f5d",
   "metadata": {},
   "source": [
    "<h1> Entendendo o *args </h1>\n"
   ]
  },
  {
   "cell_type": "markdown",
   "id": "fc044984",
   "metadata": {},
   "source": [
    "São os parametros extras que podemos passar para uma função <br>\n",
    "Cada elemento é separado por virgula, então cada parametro vira uma posição da tupla que será criada."
   ]
  },
  {
   "cell_type": "code",
   "execution_count": null,
   "id": "6e0fa5f3",
   "metadata": {},
   "outputs": [
    {
     "name": "stdout",
     "output_type": "stream",
     "text": [
      "25\n",
      "60\n",
      "171\n"
     ]
    }
   ],
   "source": [
    "# basicamente pega os argumentos passados como parametro na chamada da função\n",
    "# e armazena em uma tupla, com todos os parametros agrupados\n",
    "def soma_numeros(*args):\n",
    "    total = 0\n",
    "    for numero in args:\n",
    "        total += numero\n",
    "    return total\n",
    "\n",
    "print(soma_numeros(1,2,3,4,5,10))\n",
    "\n",
    "\n",
    "# simplificando o código acima, com a função de soma que podemos usar em tuplas\n",
    "def soma_simplificada(*args):\n",
    "    return sum(args)\n",
    "\n",
    "print(soma_simplificada(10,20,30))\n",
    "\n",
    "\n",
    "def exemplo(nome,*args):\n",
    "    return sum(args)\n",
    "\n",
    "print(exemplo('vinicius',1,2,3,4,5,6,20,130))"
   ]
  },
  {
   "cell_type": "markdown",
   "id": "6eb72d5b",
   "metadata": {},
   "source": [
    "<h3> Desempacotar valores automaticamente </h3>"
   ]
  },
  {
   "cell_type": "code",
   "execution_count": null,
   "id": "97b40ab3",
   "metadata": {},
   "outputs": [
    {
     "name": "stdout",
     "output_type": "stream",
     "text": [
      "0\n",
      "9\n",
      "9\n"
     ]
    },
    {
     "data": {
      "text/plain": [
       "'\\nOBS: O asterisco serve para que informemos ao Python que estamos passando como\\nargumento uma coleção de dados,desta forma, ele saberá que precisará desempacotar \\nestes dados\\n'"
      ]
     },
     "execution_count": 3,
     "metadata": {},
     "output_type": "execute_result"
    }
   ],
   "source": [
    "numeros = [1,2,3,4]\n",
    "\n",
    "# gera um erro pois a lista será um item unico dentro da tupla\n",
    "print(exemplo(numeros))\n",
    "\n",
    "# solução manual\n",
    "num1,num2,num3,num4 = numeros\n",
    "print(exemplo(num1,num2,num3,num4))\n",
    "\n",
    "# solução automatica\n",
    "print(exemplo(*numeros))\n",
    "\n",
    "\"\"\"\n",
    "OBS: O asterisco serve para que informemos ao Python que estamos passando como\n",
    "argumento uma coleção de dados,desta forma, ele saberá que precisará desempacotar \n",
    "estes dados\n",
    "\"\"\""
   ]
  },
  {
   "cell_type": "markdown",
   "id": "c4bba41e",
   "metadata": {},
   "source": [
    "<h1> List Comprehension </h1>"
   ]
  },
  {
   "cell_type": "markdown",
   "id": "449362b4",
   "metadata": {},
   "source": [
    "Podemos gerar novas listas com dados processados a partir de outro iterável.\n"
   ]
  },
  {
   "cell_type": "code",
   "execution_count": null,
   "id": "10f77cfe",
   "metadata": {},
   "outputs": [
    {
     "name": "stdout",
     "output_type": "stream",
     "text": [
      "[10, 20, 30, 40, 50]\n"
     ]
    }
   ],
   "source": [
    "# [dado for dado in iteravel]\n",
    "\n",
    "numeros  = [1,2,3,4,5]\n",
    "\n",
    "# podemos gerar novos dados e adicionar numa lista a partir do\n",
    "# processamento de dados de um iteravel ja existente\n",
    "res = [numero * 10 for numero in numeros]\n",
    "print(res)"
   ]
  },
  {
   "cell_type": "code",
   "execution_count": null,
   "id": "6b6affb2",
   "metadata": {},
   "outputs": [
    {
     "name": "stdout",
     "output_type": "stream",
     "text": [
      "[1, 4, 9, 16, 25]\n"
     ]
    }
   ],
   "source": [
    "# Podemos usar qualquer tipo de processamento de dados\n",
    "# para gerar essa nova lista, como por exemplo usar uma função\n",
    "def multiplica(valor):\n",
    "    return valor*valor\n",
    "\n",
    "lista = [multiplica(numero) for numero in numeros]\n",
    "\n",
    "print(lista)"
   ]
  },
  {
   "cell_type": "code",
   "execution_count": null,
   "id": "1777b9d2",
   "metadata": {},
   "outputs": [
    {
     "name": "stdout",
     "output_type": "stream",
     "text": [
      "Método tradicional:[2, 4, 6, 8, 10]\n",
      "List comprehension:[2, 4, 6, 8, 10]\n"
     ]
    }
   ],
   "source": [
    "# Vamos supor que voce queira dobrar o valor de numeros\n",
    "\n",
    "# Método tradicional\n",
    "num = [1,2,3,4,5]\n",
    "num_dobrados = []\n",
    "\n",
    "for numero in num:\n",
    "    num_dobrados.append(numero*2)\n",
    "print(f'Método tradicional:{num_dobrados}')\n",
    "\n",
    "\n",
    "# Utilizando list comprehension\n",
    "numeros_dobrados = [numero*2 for numero in num]\n",
    "print(f'List comprehension:{numeros_dobrados}')"
   ]
  },
  {
   "cell_type": "code",
   "execution_count": null,
   "id": "fa40adf1",
   "metadata": {},
   "outputs": [
    {
     "name": "stdout",
     "output_type": "stream",
     "text": [
      "['Vinicius', 'Gustavo', 'Guilherme', 'Gabriel']\n"
     ]
    }
   ],
   "source": [
    "nomes = ['vinicius','gustavo','guilherme','gabriel']\n",
    "\n",
    "# Lista com os nomes com a primeira letra em maiusculo\n",
    "lista = [nome.capitalize() for nome in nomes]\n",
    "print(lista)"
   ]
  },
  {
   "cell_type": "markdown",
   "id": "18aa7507",
   "metadata": {},
   "source": [
    "<h3> Podemos utilizar as Listas Comprehension com estruturas condicionais lógicas </h3>"
   ]
  },
  {
   "cell_type": "code",
   "execution_count": null,
   "id": "bcd9cc84",
   "metadata": {},
   "outputs": [
    {
     "name": "stdout",
     "output_type": "stream",
     "text": [
      "[0, 2, 4, 6, 8, 10, 12, 14, 16, 18, 20]\n",
      "[1, 3, 5, 7, 9, 11, 13, 15, 17, 19]\n",
      "[0, 0.5, 2, 1.5, 4, 2.5, 6, 3.5, 8, 4.5, 10, 5.5, 12, 6.5, 14, 7.5, 16, 8.5, 18, 9.5, 20]\n"
     ]
    }
   ],
   "source": [
    "# Criando uma nova lista somente com os números pares\n",
    "\n",
    "numeros = list(range(21))\n",
    "\n",
    "# Percorre -> para cada numero em numeros se o numero for par\n",
    "# adiciona atribui a variavel 'numero'\n",
    "numeros_pares = [numero for numero in numeros if numero%2==0]\n",
    "print(numeros_pares)\n",
    "\n",
    "numeros_impares = [numero for numero in numeros if not numero%2==0]\n",
    "print(numeros_impares)\n",
    "\n",
    "# Utilizando if e else\n",
    "dados = [numero if numero%2==0 else numero/2 for numero in numeros]\n",
    "print(dados)"
   ]
  },
  {
   "cell_type": "markdown",
   "id": "1082828f",
   "metadata": {},
   "source": [
    "<h1> Listas Aninhadas </h1>\n"
   ]
  },
  {
   "cell_type": "markdown",
   "id": "9d166b66",
   "metadata": {},
   "source": [
    "Algumas linguagens de programação possuem uma estrutura de dados chamada de arrays:<br>\n",
    "-Unidimensionais(Arrays/Vetores)<br>\n",
    "-Multidimensionais(Matrizes)<br><br>\n",
    "Em python nós temos as listas.\n"
   ]
  },
  {
   "cell_type": "markdown",
   "id": "329dc34f",
   "metadata": {},
   "source": [
    "Em python como não temos a estrutura de dados de uma matriz, nós utilizamos uma lista de listas."
   ]
  },
  {
   "cell_type": "code",
   "execution_count": null,
   "id": "d38bd446",
   "metadata": {},
   "outputs": [
    {
     "name": "stdout",
     "output_type": "stream",
     "text": [
      "[[1, 2, 3, 8], [2, 3, 4, 9], [3, 4, 5, 10]]\n",
      "<class 'list'>\n",
      "1|2|3|8|\n",
      "2|3|4|9|\n",
      "3|4|5|10|\n",
      "\n",
      "1|2|3|8|\n",
      "2|3|4|9|\n",
      "3|4|5|10|\n",
      "1|2|3|8|2|3|4|9|3|4|5|10|"
     ]
    },
    {
     "data": {
      "text/plain": [
       "[[None, None, None, None], [None, None, None, None], [None, None, None, None]]"
      ]
     },
     "execution_count": 89,
     "metadata": {},
     "output_type": "execute_result"
    }
   ],
   "source": [
    "# Matriz 3x3\n",
    "rows = 3\n",
    "cols = 4\n",
    "\n",
    "matriz = [\n",
    "    [1,2,3,8],\n",
    "    [2,3,4,9],\n",
    "    [3,4,5,10]\n",
    "]\n",
    "\n",
    "print(matriz)\n",
    "print(type(matriz))\n",
    "\n",
    "# Impressão quando se sabe o numero de linhas e colunas\n",
    "for i in range(rows):\n",
    "    for j in range(cols):\n",
    "        print(matriz[i][j], end = '|')\n",
    "    print()\n",
    "\n",
    "print()\n",
    "# Percorrer a matriz sem numero de linhas e colunas\n",
    "for linha in matriz:\n",
    "    for numero in linha:\n",
    "        print(numero, end='|')\n",
    "    print()\n",
    "\n",
    "# Imprimindo os numeros de cada linhas e coluna com list comprehension\n",
    "[[print(valor,end='|') for valor in lista] for lista in matriz]"
   ]
  },
  {
   "attachments": {},
   "cell_type": "markdown",
   "id": "34938e08",
   "metadata": {},
   "source": [
    "<h1> Dictionary Comprehension </h1>"
   ]
  },
  {
   "attachments": {},
   "cell_type": "markdown",
   "id": "7da0d8a3",
   "metadata": {},
   "source": [
    "Basicamente a mesma coisa do List Comprehension porém com a estrutura de um dicionário."
   ]
  },
  {
   "cell_type": "code",
   "execution_count": null,
   "id": "c7cdced1",
   "metadata": {},
   "outputs": [
    {
     "name": "stdout",
     "output_type": "stream",
     "text": [
      "{'a': 1, 'b': 4, 'c': 9, 'd': 16}\n"
     ]
    }
   ],
   "source": [
    "# Gerar um dicionário com o quadrado dos números\n",
    "numeros = {'a':1,'b':2,'c':3,'d':4}\n",
    "\n",
    "numeros_quadrado = {chave:valor**2 for chave,valor in numeros.items()}\n",
    "print(numeros_quadrado)"
   ]
  },
  {
   "cell_type": "code",
   "execution_count": null,
   "id": "e30be84a",
   "metadata": {},
   "outputs": [
    {
     "name": "stdout",
     "output_type": "stream",
     "text": [
      "{'Vinicius': 8, 'Joao': 4, 'Fernanda': 8, 'Mario': 5}\n"
     ]
    }
   ],
   "source": [
    "# Gerar um dicionário com o nome e a quantidade de letras dele\n",
    "nomes = ['vinicius','joao','fernanda','mario']\n",
    "\n",
    "nomes_tamanho = {nome.capitalize():len(nome) for nome in nomes}\n",
    "print(nomes_tamanho)"
   ]
  },
  {
   "cell_type": "markdown",
   "id": "7534c137",
   "metadata": {},
   "source": [
    "<h4> Exemplo com lógica condicional </h4>"
   ]
  },
  {
   "cell_type": "code",
   "execution_count": null,
   "id": "09758874",
   "metadata": {},
   "outputs": [
    {
     "name": "stdout",
     "output_type": "stream",
     "text": [
      "{1: 'impar', 2: 'par', 3: 'impar', 4: 'par', 5: 'impar'}\n"
     ]
    }
   ],
   "source": [
    "numeros = [1,2,3,4,5]\n",
    "\n",
    "res = {num:'par' if num%2==0 else 'impar' for num in numeros}\n",
    "print(res)"
   ]
  },
  {
   "cell_type": "markdown",
   "id": "1cc1fb26",
   "metadata": {},
   "source": [
    "<h1> Lambdas </h1>"
   ]
  },
  {
   "cell_type": "markdown",
   "id": "b1062780",
   "metadata": {},
   "source": [
    "Conhecidas por Expressões Lambdas, ou simplesmente Lambdas, são funções sem nome, ou seja, funções anônimas."
   ]
  },
  {
   "cell_type": "code",
   "execution_count": null,
   "id": "3c301bb5",
   "metadata": {},
   "outputs": [
    {
     "name": "stdout",
     "output_type": "stream",
     "text": [
      "13\n",
      "13\n"
     ]
    }
   ],
   "source": [
    "#Comparando declaração lambda com def normal\n",
    "\n",
    "#declaração normal\n",
    "def funcao(x):\n",
    "    return 3 * x + 1\n",
    "\n",
    "print(funcao(4))\n",
    "\n",
    "#declaração lambda\n",
    "# parametros de entrada são definidos antes dos 2 pontos,e os parametros\n",
    "# de saida vem depois dos 2 pontos\n",
    "lambda x: 3 * x + 1\n",
    "\n",
    "calc = lambda x: 3 * x + 1\n",
    "\n",
    "print(calc(4))"
   ]
  },
  {
   "cell_type": "code",
   "execution_count": null,
   "id": "17fbeb36",
   "metadata": {},
   "outputs": [
    {
     "name": "stdout",
     "output_type": "stream",
     "text": [
      "Vinicius Assunção\n"
     ]
    }
   ],
   "source": [
    "# strip -> retira espaços no fina e começo de uma string\n",
    "# capitalize -> primeira letra maiuscula\n",
    "nomes_completo = lambda nome,sobrenome: nome.strip().capitalize() + \" \" + sobrenome.strip().capitalize()\n",
    "\n",
    "print(nomes_completo(' vinicius','ASSUNÇÃO'))"
   ]
  },
  {
   "cell_type": "markdown",
   "id": "bc7af928",
   "metadata": {},
   "source": [
    "Utilização mais comum de funções lambdas"
   ]
  },
  {
   "cell_type": "code",
   "execution_count": null,
   "id": "0972cea0",
   "metadata": {},
   "outputs": [
    {
     "name": "stdout",
     "output_type": "stream",
     "text": [
      "['Isaac Asimov', 'Ray Bradbury', 'Robert Heinlen', 'Arthur C. Clarke', 'Frank Hebert', 'Orson Scott Card']\n",
      "['Isaac Asimov', 'Ray Bradbury', 'Orson Scott Card', 'Arthur C. Clarke', 'Frank Hebert', 'Robert Heinlen']\n"
     ]
    }
   ],
   "source": [
    "autores = ['Isaac Asimov','Ray Bradbury','Robert Heinlen','Arthur C. Clarke',\n",
    "           'Frank Hebert', 'Orson Scott Card']\n",
    "\n",
    "#ordernar a lista de autores pelo sobrenome\n",
    "print(autores)\n",
    "# pra cada autor dentro de autores eu executo a função lambda\n",
    "autores.sort(key = lambda sobrenome: sobrenome.split(' ')[-1].lower())\n",
    "print(autores)"
   ]
  },
  {
   "cell_type": "markdown",
   "id": "e4e4d0ef",
   "metadata": {},
   "source": [
    "<h4> Explorando a função sort() e sorted() </h4>"
   ]
  },
  {
   "cell_type": "code",
   "execution_count": null,
   "id": "ac35353d",
   "metadata": {},
   "outputs": [
    {
     "name": "stdout",
     "output_type": "stream",
     "text": [
      "[3, 56, 1, 5, 78, 2]\n",
      "[1, 2, 3, 5, 56, 78]\n",
      "[78, 56, 5, 3, 2, 1]\n",
      "[1, 2, 3, 5, 56, 78]\n",
      "[78, 56, 5, 3, 2, 1]\n"
     ]
    }
   ],
   "source": [
    "numeros = [3,56,1,5,78,2]\n",
    "print(numeros)\n",
    "\n",
    "#ordena em ordem crescente\n",
    "numeros.sort()\n",
    "print(numeros)\n",
    "\n",
    "#ordena em ordem decrescente\n",
    "numeros.sort(reverse=True)\n",
    "print(numeros)\n",
    "\n",
    "# Se quiser criar outra lista a partir dessa sem alterar a lista orginal\n",
    "numeros_crescentes = sorted(numeros)\n",
    "print(numeros_crescentes)\n",
    "print(numeros)"
   ]
  },
  {
   "cell_type": "markdown",
   "id": "f1b4a145",
   "metadata": {},
   "source": [
    "<h1> Map </h1>"
   ]
  },
  {
   "cell_type": "markdown",
   "id": "32bf6465",
   "metadata": {},
   "source": [
    "Com map, fazemos mapeamento de valores para função.<br>\n",
    "Ele pega cada um dos dados do iterável e passa como entrada para uma função."
   ]
  },
  {
   "cell_type": "code",
   "execution_count": null,
   "id": "f7b1ec58",
   "metadata": {},
   "outputs": [
    {
     "name": "stdout",
     "output_type": "stream",
     "text": [
      "12.566370614359172\n",
      "[12.566370614359172, 39.59192141686537, 78.53981633974483, 314.1592653589793, 452.3893421169302]\n",
      "<map object at 0x000001842B4A60D0>\n",
      "<class 'map'>\n",
      "[12.566370614359172, 39.59192141686537, 78.53981633974483, 314.1592653589793, 452.3893421169302]\n",
      "[12.566370614359172, 39.59192141686537, 78.53981633974483, 314.1592653589793, 452.3893421169302]\n"
     ]
    }
   ],
   "source": [
    "import math\n",
    "\n",
    "def area(r):\n",
    "    \"\"\"Calcula a area de um circulo com raio r\"\"\"\n",
    "    return math.pi * (r**2)\n",
    "\n",
    "print(area(2))\n",
    "\n",
    "# Se eu quisesse obter a area para diversos raios dentro de uma lista\n",
    "raios = [2,3.55,5,10,12]\n",
    "\n",
    "# Forma 1 - Loop\n",
    "areas = []\n",
    "for r in raios:\n",
    "    areas.append(area(r))\n",
    "\n",
    "print(areas)\n",
    "\n",
    "#Forma 2 - Map\n",
    "# Map é uma função que recebe dois parametros: O primeiro a função,\n",
    "# o segundo um iterável -> Retorna um map object iterável\n",
    "\n",
    "areas = map(area,raios)\n",
    "#print(areas)\n",
    "#print(type(areas))\n",
    "print(list(areas))\n",
    "\n",
    "# Forma 3 - Lambda e map\n",
    "\n",
    "areas = map(lambda r:math.pi*(r**2),raios)\n",
    "print(list(areas))\n"
   ]
  },
  {
   "cell_type": "markdown",
   "id": "dde24663",
   "metadata": {},
   "source": [
    "<h4> !----- Observação -----! </h4>"
   ]
  },
  {
   "cell_type": "code",
   "execution_count": null,
   "id": "5ef57c5e",
   "metadata": {},
   "outputs": [
    {
     "data": {
      "text/plain": [
       "'\\nApós a primeira utilização dos dados retornados para o map os dados salvo\\nno map object são zerados, ou seja, tudo é apagado. \\n\\nIsso significa que se eu utilizar uma conversão, ou realizar um loop\\npara percorrer esse map object, e for tentar fazer isso uma segunda vez\\nele não terá mais nenhum dado lá para me retornar.\\n'"
      ]
     },
     "execution_count": 36,
     "metadata": {},
     "output_type": "execute_result"
    }
   ],
   "source": [
    "\"\"\"\n",
    "Após a primeira utilização dos dados retornados para o map os dados salvo\n",
    "no map object são zerados, ou seja, tudo é apagado. \n",
    "\n",
    "Isso significa que se eu utilizar uma conversão, ou realizar um loop\n",
    "para percorrer esse map object, e for tentar fazer isso uma segunda vez\n",
    "ele não terá mais nenhum dado lá para me retornar.\n",
    "\"\"\""
   ]
  },
  {
   "cell_type": "code",
   "execution_count": null,
   "id": "5bca26d1",
   "metadata": {},
   "outputs": [
    {
     "name": "stdout",
     "output_type": "stream",
     "text": [
      "[('Berlim', 29), ('Venezuela', 30), ('Brasil', 34), ('Argentina', 20), ('Russia', 2), ('China', 15)]\n",
      "[('Berlim', 84.2), ('Venezuela', 86.0), ('Brasil', 93.2), ('Argentina', 68.0), ('Russia', 35.6), ('China', 59.0)]\n"
     ]
    }
   ],
   "source": [
    "#Mais uma utilização\n",
    "\n",
    "# Lugares com temperatura em Celsius\n",
    "places = [('Berlim',29),('Venezuela',30),('Brasil',34),('Argentina',20),('Russia',2),('China',15)]\n",
    "#Celsius\n",
    "print(places)\n",
    "\n",
    "# Agora queremos a mesma lista só que com as temperaturas em Fahrenheit\n",
    "# f = 9/5 * c + 32\n",
    "\n",
    "c_para_f = lambda place: (place[0],(9/5) * place[1] + 32)\n",
    "#Fahrenheit\n",
    "print(list(map(c_para_f,places)))"
   ]
  },
  {
   "attachments": {},
   "cell_type": "markdown",
   "id": "5031cefa",
   "metadata": {},
   "source": [
    "<h1> Filter </h1>\n"
   ]
  },
  {
   "attachments": {},
   "cell_type": "markdown",
   "id": "917c3853",
   "metadata": {},
   "source": [
    "Serve para filtrar dados de uma determinada coleção."
   ]
  },
  {
   "attachments": {},
   "cell_type": "markdown",
   "id": "3ca3ff68",
   "metadata": {},
   "source": [
    "Assim como o map a função filter recebe dois paramêtros, uma função e uma coleção de dados. Irá ser executada essa função para cada um dos dados da coleção de dados.\n",
    "<br><br>\n",
    "Do mesmo jeito que o map, uma vez que os dados são utilizados, logo após isso ele vai ser limpado e sumir."
   ]
  },
  {
   "cell_type": "code",
   "execution_count": null,
   "id": "ac57247b",
   "metadata": {},
   "outputs": [
    {
     "name": "stdout",
     "output_type": "stream",
     "text": [
      "[4, 5, 6]\n",
      "[]\n"
     ]
    }
   ],
   "source": [
    "# biblioteca para trabalhar com dados estatisticos\n",
    "import statistics as stat\n",
    "\n",
    "valores = (1,2,3,4,5,6)\n",
    "\n",
    "media = stat.mean(valores)\n",
    "\n",
    "res = filter(lambda x: x>media,valores)\n",
    "# 1 vez\n",
    "print(list(res))\n",
    "# 2 vez - limpado da memória \n",
    "print(list(res))"
   ]
  },
  {
   "cell_type": "code",
   "execution_count": null,
   "id": "e4db6186",
   "metadata": {},
   "outputs": [
    {
     "name": "stdout",
     "output_type": "stream",
     "text": [
      "['', 'brasil', '', 'argentina', '', 'china']\n",
      "['brasil', 'argentina', 'china']\n"
     ]
    }
   ],
   "source": [
    "paises = ['','brasil','','argentina','','china']\n",
    "\n",
    "print(paises)\n",
    "res = filter(lambda x:x!=\"\",paises)\n",
    "#outra opção\n",
    "#res = filter(None,paises)\n",
    "print(list(res))"
   ]
  },
  {
   "cell_type": "code",
   "execution_count": null,
   "metadata": {},
   "outputs": [
    {
     "name": "stdout",
     "output_type": "stream",
     "text": [
      "{'username': 'jeff', 'tweets': []}\n",
      "{'username': 'bob123', 'tweets': []}\n",
      "{'username': 'gal', 'tweets': []}\n"
     ]
    }
   ],
   "source": [
    "usuarios = [ \n",
    "   \n",
    "    {'username':'carla',\"tweets\": [\"Eu adoro gatos\"]},\n",
    "    {'username':'jeff',\"tweets\": []},\n",
    "    {'username':'bob123',\"tweets\": []},\n",
    "    {'username':'doggo',\"tweets\": [\"Eu adoro cachorros\",\"Vou sair hoje\"]},\n",
    "    {'username':'gal',\"tweets\": []}\n",
    "]\n",
    "\n",
    "# Filtrar os usuário que estão inativos no Twitter\n",
    "\n",
    "# forma 1\n",
    "dados = filter(lambda usuario:len(usuario['tweets'])==0,usuarios)\n",
    "\n",
    "# forma 2\n",
    "dados = filter(lambda usuario:not usuario['tweets'],usuarios)\n",
    "\n",
    "for usuario in dados:\n",
    "    print(usuario)\n"
   ]
  },
  {
   "cell_type": "code",
   "execution_count": null,
   "id": "febdfeb9",
   "metadata": {},
   "outputs": [
    {
     "name": "stdout",
     "output_type": "stream",
     "text": [
      "['Sua instrutora é Ana', 'Sua instrutora é Bia']\n"
     ]
    }
   ],
   "source": [
    "# Combinar filter() e map()\n",
    "\n",
    "# Devemos criar uma lista contendo 'Sua instrutora é '+ nome, desde que cada nome tenha menos de 5 caracteres'ArithmeticError\n",
    "\n",
    "nomes = ['Vanessa','Ana','Maria','Bia']\n",
    "\n",
    "# Utilizando o filter() dentro do map()\n",
    "lista = list(map(lambda nome: f'Sua instrutora é {nome}',filter(lambda x:len(x)<5,nomes)))\n",
    "print(lista)"
   ]
  }
 ],
 "metadata": {
  "kernelspec": {
   "display_name": "Python 3 (ipykernel)",
   "language": "python",
   "name": "python3"
  },
  "language_info": {
   "codemirror_mode": {
    "name": "ipython",
    "version": 3
   },
   "file_extension": ".py",
   "mimetype": "text/x-python",
   "name": "python",
   "nbconvert_exporter": "python",
   "pygments_lexer": "ipython3",
   "version": "3.8.10"
  }
 },
 "nbformat": 4,
 "nbformat_minor": 5
}
