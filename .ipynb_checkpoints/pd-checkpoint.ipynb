{
 "cells": [
  {
   "cell_type": "code",
   "execution_count": 1,
   "metadata": {},
   "outputs": [
    {
     "name": "stdout",
     "output_type": "stream",
     "text": [
      "             Date  Abap   Ada  C/C++    C#  Cobol  Dart  Delphi/Pascal   Go  \\\n",
      "0       July 2004  0.34  0.36  10.01  4.68   0.42   0.0           2.80  0.0   \n",
      "1     August 2004  0.35  0.36   9.74  4.96   0.46   0.0           2.65  0.0   \n",
      "2  September 2004  0.41  0.41   9.59  5.04   0.51   0.0           2.64  0.0   \n",
      "3    October 2004  0.40  0.38   9.47  5.29   0.53   0.0           2.76  0.0   \n",
      "4   November 2004  0.38  0.38   9.48  5.22   0.55   0.0           2.75  0.0   \n",
      "\n",
      "   Groovy  ...  Powershell  Python     R  Ruby  Rust  Scala  Swift  \\\n",
      "0    0.03  ...        0.16    2.51  0.39  0.33  0.24   0.17    0.0   \n",
      "1    0.07  ...        0.15    2.62  0.40  0.40  0.19   0.17    0.0   \n",
      "2    0.08  ...        0.08    2.71  0.40  0.41  0.17   0.13    0.0   \n",
      "3    0.09  ...        0.12    2.91  0.42  0.46  0.12   0.14    0.0   \n",
      "4    0.07  ...        0.12    2.83  0.41  0.44  0.17   0.15    0.0   \n",
      "\n",
      "   TypeScript   VBA  Visual Basic  \n",
      "0         0.0  1.43          8.50  \n",
      "1         0.0  1.45          8.51  \n",
      "2         0.0  1.54          8.38  \n",
      "3         0.0  1.61          8.46  \n",
      "4         0.0  1.50          8.21  \n",
      "\n",
      "[5 rows x 30 columns]\n"
     ]
    }
   ],
   "source": [
    "import pandas as pd\n",
    "\n",
    "path_dataset = \"dataset.csv\"\n",
    "dados = pd.read_csv(path_dataset)\n",
    "\n",
    "print(dados.head())"
   ]
  },
  {
   "cell_type": "code",
   "execution_count": 2,
   "metadata": {},
   "outputs": [
    {
     "name": "stdout",
     "output_type": "stream",
     "text": [
      "             Date  C/C++    C#    PHP  Python     R  TypeScript   Java  \\\n",
      "0       July 2004  10.01  4.68  18.62    2.51  0.39         0.0  30.16   \n",
      "1     August 2004   9.74  4.96  19.14    2.62  0.40         0.0  29.80   \n",
      "2  September 2004   9.59  5.04  19.42    2.71  0.40         0.0  29.59   \n",
      "3    October 2004   9.47  5.29  19.28    2.91  0.42         0.0  29.02   \n",
      "4   November 2004   9.48  5.22  19.36    2.83  0.41         0.0  29.48   \n",
      "\n",
      "   JavaScript  \n",
      "0        8.59  \n",
      "1        8.72  \n",
      "2        8.67  \n",
      "3        8.44  \n",
      "4        8.48  \n"
     ]
    }
   ],
   "source": [
    "colunas_desejadas = ['Date','C/C++','C#','PHP','Python','R','TypeScript','Java','JavaScript']\n",
    "dados_selecionados = dados[colunas_desejadas]\n",
    "print(dados_selecionados.head())\n"
   ]
  }
 ],
 "metadata": {
  "kernelspec": {
   "display_name": "Python 3 (ipykernel)",
   "language": "python",
   "name": "python3"
  },
  "language_info": {
   "codemirror_mode": {
    "name": "ipython",
    "version": 3
   },
   "file_extension": ".py",
   "mimetype": "text/x-python",
   "name": "python",
   "nbconvert_exporter": "python",
   "pygments_lexer": "ipython3",
   "version": "3.8.10"
  }
 },
 "nbformat": 4,
 "nbformat_minor": 2
}
