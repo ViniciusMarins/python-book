{
 "cells": [
  {
   "cell_type": "markdown",
   "id": "a1fac530",
   "metadata": {},
   "source": [
    "<h4> Função para verificar se um número é quadrado perfeito </h4>"
   ]
  },
  {
   "cell_type": "code",
   "execution_count": 1,
   "id": "ef8d89ef",
   "metadata": {},
   "outputs": [
    {
     "name": "stdout",
     "output_type": "stream",
     "text": [
      "O número é quadrado perfeito.\n"
     ]
    }
   ],
   "source": [
    "def quadrado_perfeito(numero):\n",
    "    for i in range(numero):\n",
    "        for j in range(numero):\n",
    "            if i**j == numero:\n",
    "                return 'O número é quadrado perfeito.'\n",
    "    return 'O número não é quadrado perfeito.'\n",
    "            \n",
    "print(quadrado_perfeito(9))"
   ]
  }
 ],
 "metadata": {
  "kernelspec": {
   "display_name": "Python 3 (ipykernel)",
   "language": "python",
   "name": "python3"
  },
  "language_info": {
   "codemirror_mode": {
    "name": "ipython",
    "version": 3
   },
   "file_extension": ".py",
   "mimetype": "text/x-python",
   "name": "python",
   "nbconvert_exporter": "python",
   "pygments_lexer": "ipython3",
   "version": "3.8.10"
  }
 },
 "nbformat": 4,
 "nbformat_minor": 5
}
